{
 "cells": [
  {
   "cell_type": "code",
   "execution_count": 1,
   "id": "d0c4324d",
   "metadata": {},
   "outputs": [
    {
     "name": "stdout",
     "output_type": "stream",
     "text": [
      "12\n",
      "2\n"
     ]
    }
   ],
   "source": [
    "a = int(input())\n",
    "d = 0\n",
    "while a!=0:\n",
    "    a = a//10\n",
    "    d = d+1\n",
    "print(d)"
   ]
  },
  {
   "cell_type": "code",
   "execution_count": 2,
   "id": "f6d50cb7",
   "metadata": {},
   "outputs": [
    {
     "name": "stdout",
     "output_type": "stream",
     "text": [
      "5\n",
      "5 4 3 2 1 "
     ]
    }
   ],
   "source": [
    "#input: 10\n",
    "#output : 10 9 8 7 6 5 4 3 2 1\n",
    "a= int(input())\n",
    "n=1\n",
    "while a>=n:\n",
    "    print(a,end=\" \")\n",
    "    a=a-1\n",
    "    "
   ]
  },
  {
   "cell_type": "code",
   "execution_count": 3,
   "id": "be4548dd",
   "metadata": {},
   "outputs": [
    {
     "name": "stdout",
     "output_type": "stream",
     "text": [
      "enter the number : 8\n",
      "eight "
     ]
    }
   ],
   "source": [
    "a = int(input(\"enter the number : \"))\n",
    "while a!= 0:\n",
    "    b = a%10\n",
    "    a = a//10\n",
    "    if b ==0:\n",
    "        print(\"Zero\",end = \" \")\n",
    "    elif b ==1:\n",
    "        print(\"one\",end = \" \")\n",
    "    elif b==2:\n",
    "        print(\"two\",end =\" \")\n",
    "    elif b==3:\n",
    "        print(\"three\",end = \" \")\n",
    "    elif b==4:\n",
    "        print(\"four\",end = \" \")\n",
    "    elif b==5:\n",
    "        print(\"five\",end = \" \")\n",
    "    elif b==6:\n",
    "         print(\"six\",end = \" \")\n",
    "    elif b==7:\n",
    "         print(\"seven\",end = \" \")\n",
    "    elif b==8:\n",
    "         print(\"eight\",end = \" \")\n",
    "    elif b==9:\n",
    "         print(\"nine\",end = \" \")"
   ]
  },
  {
   "cell_type": "code",
   "execution_count": null,
   "id": "d9bdde8b",
   "metadata": {},
   "outputs": [],
   "source": []
  },
  {
   "cell_type": "code",
   "execution_count": 4,
   "id": "05bbaef1",
   "metadata": {},
   "outputs": [
    {
     "name": "stdout",
     "output_type": "stream",
     "text": [
      "enter the number : 789\n",
      "9 8 7 "
     ]
    }
   ],
   "source": [
    "#input= 123\n",
    "#output = 321\n",
    "\n",
    "a = int(input(\"enter the number : \"))\n",
    "while a!= 0:\n",
    "    print(a%10,end=\" \")\n",
    "    a = a//10\n",
    "    print"
   ]
  },
  {
   "cell_type": "code",
   "execution_count": 5,
   "id": "4357da2b",
   "metadata": {},
   "outputs": [
    {
     "name": "stdout",
     "output_type": "stream",
     "text": [
      "enter the number : 545643654\n",
      "4 5 6 3 4 6 5 4 5 "
     ]
    }
   ],
   "source": [
    "#input= 123\n",
    "#output = 321\n",
    "\n",
    "a = int(input(\"enter the number : \"))\n",
    "while a!= 0:\n",
    "    print(a%10,end=\" \")\n",
    "    a = a//10"
   ]
  },
  {
   "cell_type": "markdown",
   "id": "fb9e1e9b",
   "metadata": {},
   "source": [
    "# BREAK STATEMENT\n",
    "WE CAN STOP THE LOOP EVEN THE WHILE CONDITION  IS A TRUE CONDITION"
   ]
  },
  {
   "cell_type": "code",
   "execution_count": 5,
   "id": "85dd6244",
   "metadata": {},
   "outputs": [
    {
     "name": "stdout",
     "output_type": "stream",
     "text": [
      "1 2 3 4 "
     ]
    }
   ],
   "source": [
    "i =1\n",
    "while i<=6:\n",
    "    print(i,end=\" \")\n",
    "    if i== 4:\n",
    "        break\n",
    "    i+=1\n",
    "    "
   ]
  },
  {
   "cell_type": "code",
   "execution_count": 11,
   "id": "bd787439",
   "metadata": {},
   "outputs": [
    {
     "name": "stdout",
     "output_type": "stream",
     "text": [
      "1   2   4   5   "
     ]
    }
   ],
   "source": [
    "i =0\n",
    "while i<5:\n",
    "    i +=1\n",
    "    if i==3:\n",
    "        continue\n",
    "    print(i,end=\"   \")\n",
    "    \n",
    "    "
   ]
  },
  {
   "cell_type": "code",
   "execution_count": 14,
   "id": "508fad27",
   "metadata": {},
   "outputs": [
    {
     "name": "stdout",
     "output_type": "stream",
     "text": [
      "1   2   4   5   6   "
     ]
    }
   ],
   "source": [
    "i =0\n",
    "while i<=5:\n",
    "    i +=1\n",
    "    if i==3:\n",
    "        continue\n",
    "    print(i,end=\"   \")"
   ]
  },
  {
   "cell_type": "code",
   "execution_count": 4,
   "id": "b4aa8ede",
   "metadata": {},
   "outputs": [
    {
     "ename": "SyntaxError",
     "evalue": "invalid syntax (Temp/ipykernel_4312/4143500741.py, line 3)",
     "output_type": "error",
     "traceback": [
      "\u001b[1;36m  File \u001b[1;32m\"C:\\Users\\USER20~1\\AppData\\Local\\Temp/ipykernel_4312/4143500741.py\"\u001b[1;36m, line \u001b[1;32m3\u001b[0m\n\u001b[1;33m    for <loval variable> in <object name>\u001b[0m\n\u001b[1;37m        ^\u001b[0m\n\u001b[1;31mSyntaxError\u001b[0m\u001b[1;31m:\u001b[0m invalid syntax\n"
     ]
    }
   ],
   "source": [
    "# FOR LOOP STATEMENT\n",
    "-syntax\n",
    "for <loval variable> in <object name>"
   ]
  },
  {
   "cell_type": "code",
   "execution_count": 15,
   "id": "070ec5e4",
   "metadata": {},
   "outputs": [
    {
     "name": "stdout",
     "output_type": "stream",
     "text": [
      "0 1 2 3 4 "
     ]
    }
   ],
   "source": [
    "for i in range (5):\n",
    "    print (i,end= \" \")"
   ]
  },
  {
   "cell_type": "code",
   "execution_count": 16,
   "id": "cc3d0c26",
   "metadata": {},
   "outputs": [
    {
     "name": "stdout",
     "output_type": "stream",
     "text": [
      "1 2 3 4 5 6 7 8 "
     ]
    }
   ],
   "source": [
    "for i in range (1,9):\n",
    "    print (i,end= \" \")"
   ]
  },
  {
   "cell_type": "code",
   "execution_count": 17,
   "id": "5bb8a1de",
   "metadata": {},
   "outputs": [
    {
     "name": "stdout",
     "output_type": "stream",
     "text": [
      "1 2 3 4 5 6 7 8 9 10 11 12 13 14 15 16 17 18 19 "
     ]
    }
   ],
   "source": [
    "for i in range (1,20):\n",
    "    print (i,end= \" \")"
   ]
  },
  {
   "cell_type": "code",
   "execution_count": 4,
   "id": "93d42aa1",
   "metadata": {},
   "outputs": [
    {
     "name": "stdout",
     "output_type": "stream",
     "text": [
      "5 6 7 8 "
     ]
    }
   ],
   "source": [
    "for i in range (5,9):\n",
    "        print (i,end= \" \")"
   ]
  },
  {
   "cell_type": "code",
   "execution_count": 9,
   "id": "e44e5e65",
   "metadata": {},
   "outputs": [
    {
     "name": "stdout",
     "output_type": "stream",
     "text": [
      "1 2 3 4 5 6 7 8 9 10 "
     ]
    }
   ],
   "source": [
    "for i in range (1,11):\n",
    "    print (i,end= \" \")"
   ]
  },
  {
   "cell_type": "code",
   "execution_count": 19,
   "id": "d9bf7149",
   "metadata": {},
   "outputs": [
    {
     "name": "stdout",
     "output_type": "stream",
     "text": [
      "0 1 2 3 4 5 6 7 8 9 "
     ]
    }
   ],
   "source": [
    "for i in  range (10):\n",
    "    print(i,end =\" \")"
   ]
  },
  {
   "cell_type": "code",
   "execution_count": 15,
   "id": "59d9bc63",
   "metadata": {},
   "outputs": [
    {
     "name": "stdout",
     "output_type": "stream",
     "text": [
      "1 3 5 7 9 "
     ]
    }
   ],
   "source": [
    "#print odd numbers\n",
    "for i in range (1,10,2):\n",
    "    print (i,end= \" \")"
   ]
  },
  {
   "cell_type": "code",
   "execution_count": 16,
   "id": "f170fc66",
   "metadata": {},
   "outputs": [
    {
     "name": "stdout",
     "output_type": "stream",
     "text": [
      "0 2 4 6 8 "
     ]
    }
   ],
   "source": [
    "#print even numbers\n",
    "for i in range (0,10,2):\n",
    "    print (i,end= \" \")"
   ]
  },
  {
   "cell_type": "code",
   "execution_count": 20,
   "id": "0ddd7eb5",
   "metadata": {},
   "outputs": [
    {
     "name": "stdout",
     "output_type": "stream",
     "text": [
      "11 10 9 8 7 6 5 4 3 2 1 "
     ]
    }
   ],
   "source": [
    "for i in  range (11,0,-1):\n",
    "    print(i,end =\" \")"
   ]
  },
  {
   "cell_type": "code",
   "execution_count": 28,
   "id": "a75ece57",
   "metadata": {},
   "outputs": [
    {
     "name": "stdout",
     "output_type": "stream",
     "text": [
      "0 15 30 45 60 75 90 "
     ]
    }
   ],
   "source": [
    "for i in  range (0,100):\n",
    "    if i %3==0 and i %5 ==0:\n",
    "         print(i,end =\" \")\n",
    "    "
   ]
  },
  {
   "cell_type": "code",
   "execution_count": 30,
   "id": "39447f5f",
   "metadata": {},
   "outputs": [
    {
     "name": "stdout",
     "output_type": "stream",
     "text": [
      "0 1 2 3 4 5 6 7 8 9 10 11 12 13 14 15 16 17 18 19 20 21 22 23 24 25 26 27 28 29 30 31 32 33 34 35 36 37 38 39 40 41 42 43 44 45 46 47 48 49 50 51 52 53 54 55 56 57 58 59 60 61 62 63 64 65 66 67 68 69 70 71 72 73 74 75 76 77 78 79 80 81 82 83 84 85 86 87 88 89 90 91 92 93 94 95 96 97 98 99 "
     ]
    }
   ],
   "source": [
    "for i in range(0,100):\n",
    "    a = i+1\n",
    "    print(i,end =\" \")\n",
    "\n",
    "    "
   ]
  },
  {
   "cell_type": "code",
   "execution_count": 37,
   "id": "ef42ef63",
   "metadata": {},
   "outputs": [
    {
     "name": "stdout",
     "output_type": "stream",
     "text": [
      "0 1 2 3 4 5 6 7 8 9 10 11 12 13 14 15 16 17 18 19 20 21 22 23 24 25 26 27 28 29 30 31 32 33 34 35 36 37 38 39 40 41 42 43 44 45 46 47 48 49 50 51 52 53 54 55 56 57 58 59 60 61 62 63 64 65 66 67 68 69 70 71 72 73 74 75 76 77 78 79 80 81 82 83 84 85 86 87 88 89 90 91 92 93 94 95 96 97 98 99 "
     ]
    }
   ],
   "source": [
    "for i in range(0,100,1):\n",
    "    a=a+1\n",
    "    print(\"the answer is:\", a)\n"
   ]
  },
  {
   "cell_type": "code",
   "execution_count": 40,
   "id": "7e2292c4",
   "metadata": {},
   "outputs": [
    {
     "name": "stdout",
     "output_type": "stream",
     "text": [
      "the answer is: 5050\n"
     ]
    }
   ],
   "source": [
    "a = 0\n",
    "for i in range(0,101,1):\n",
    "    a=a+i\n",
    "print(\"the answer is:\", a)"
   ]
  },
  {
   "cell_type": "code",
   "execution_count": 41,
   "id": "a7fcbede",
   "metadata": {},
   "outputs": [
    {
     "name": "stdout",
     "output_type": "stream",
     "text": [
      "enter the number:100\n",
      "the answer is: 5050\n"
     ]
    }
   ],
   "source": [
    "n= int(input(\"enter the number:\"))\n",
    "a = 0\n",
    "for i in range(0,n+1,1):\n",
    "    a=a+i\n",
    "print(\"the answer is:\", a)"
   ]
  },
  {
   "cell_type": "code",
   "execution_count": 42,
   "id": "474ecc66",
   "metadata": {},
   "outputs": [
    {
     "name": "stdout",
     "output_type": "stream",
     "text": [
      "enter the number:5000\n",
      "the answer is: 12502500\n"
     ]
    }
   ],
   "source": [
    "n= int(input(\"enter the number:\"))\n",
    "a = 0\n",
    "for i in range(0,n+1,1):\n",
    "    a=a+i\n",
    "print(\"the answer is:\", a)"
   ]
  },
  {
   "cell_type": "code",
   "execution_count": null,
   "id": "8f7dc7de",
   "metadata": {},
   "outputs": [],
   "source": []
  }
 ],
 "metadata": {
  "kernelspec": {
   "display_name": "Python 3 (ipykernel)",
   "language": "python",
   "name": "python3"
  },
  "language_info": {
   "codemirror_mode": {
    "name": "ipython",
    "version": 3
   },
   "file_extension": ".py",
   "mimetype": "text/x-python",
   "name": "python",
   "nbconvert_exporter": "python",
   "pygments_lexer": "ipython3",
   "version": "3.9.7"
  }
 },
 "nbformat": 4,
 "nbformat_minor": 5
}

{
 "cells": [
  {
   "cell_type": "markdown",
   "id": "429da553",
   "metadata": {},
   "source": [
    "object oriented program"
   ]
  },
  {
   "cell_type": "markdown",
   "id": "85594664",
   "metadata": {},
   "source": [
    "# object oriented programming\n",
    "python supports different programing approach\n",
    "one of the popular approach to solve programs by creating object and it is objct oriented programming\n",
    "object has 2 char. \n",
    "1 is attributes and the other behaviour"
   ]
  },
  {
   "cell_type": "code",
   "execution_count": null,
   "id": "2be92d62",
   "metadata": {},
   "outputs": [],
   "source": [
    "# example\\\n",
    "- parrot is an example,parrot is an object,in that name,colour,age as attributes\n",
    "- singing,dancing,talking these comes under behaviour"
   ]
  },
  {
   "cell_type": "code",
   "execution_count": null,
   "id": "fda0709e",
   "metadata": {},
   "outputs": [],
   "source": [
    "class parrot:\n",
    "    pass# to avoid error"
   ]
  },
  {
   "cell_type": "code",
   "execution_count": 6,
   "id": "a807b368",
   "metadata": {},
   "outputs": [
    {
     "name": "stdout",
     "output_type": "stream",
     "text": [
      "5\n"
     ]
    }
   ],
   "source": [
    "class parrot:\n",
    "    x= 5\n",
    "obj = parrot()\n",
    "print(obj.x)"
   ]
  },
  {
   "cell_type": "code",
   "execution_count": 8,
   "id": "4e495256",
   "metadata": {},
   "outputs": [
    {
     "name": "stdout",
     "output_type": "stream",
     "text": [
      "hello im VIYA\n"
     ]
    }
   ],
   "source": [
    "# create a method in class\n",
    "class cls:\n",
    "    #create amethod\n",
    "    def test(self):\n",
    "        print(\"hello im VIYA\")\n",
    "obj1 = cls()\n",
    "obj1.test()"
   ]
  },
  {
   "cell_type": "code",
   "execution_count": 9,
   "id": "bd844665",
   "metadata": {},
   "outputs": [
    {
     "name": "stdout",
     "output_type": "stream",
     "text": [
      "my name is: VIYA\n"
     ]
    }
   ],
   "source": [
    "class cls1:\n",
    "    def test1(self,name):\n",
    "        print(\"my name is:\",name)\n",
    "obj2=cls1()\n",
    "obj2.test1(\"VIYA\")\n",
    "    "
   ]
  },
  {
   "cell_type": "code",
   "execution_count": 11,
   "id": "6d938d0a",
   "metadata": {},
   "outputs": [
    {
     "name": "stdout",
     "output_type": "stream",
     "text": [
      "24\n"
     ]
    }
   ],
   "source": [
    "# adding of 3 number\n",
    "class cls:\n",
    "    def test(self, a,b,c):\n",
    "        print(a+b+c)\n",
    "obj=cls()\n",
    "obj.test(9,8,7)"
   ]
  },
  {
   "cell_type": "code",
   "execution_count": 12,
   "id": "fa76ea3e",
   "metadata": {},
   "outputs": [
    {
     "name": "stdout",
     "output_type": "stream",
     "text": [
      "25064\n"
     ]
    }
   ],
   "source": [
    "# adding of 3 number\n",
    "class cls:\n",
    "    def test(self, a,b,c):\n",
    "        print(a+b+c)\n",
    "obj=cls()\n",
    "obj.test(8959,8253,7852)"
   ]
  },
  {
   "cell_type": "markdown",
   "id": "7accd35d",
   "metadata": {},
   "source": [
    "# constructor"
   ]
  },
  {
   "cell_type": "code",
   "execution_count": 19,
   "id": "a170f254",
   "metadata": {},
   "outputs": [
    {
     "name": "stdout",
     "output_type": "stream",
     "text": [
      "prudhvi\n",
      "4\n"
     ]
    }
   ],
   "source": [
    "#example \n",
    "class person:\n",
    "    def __init__(self,name,age):\n",
    "        self.name=name\n",
    "        self.age=age\n",
    "obj1 = person(\"prudhvi\",4)\n",
    "print(obj1.name)\n",
    "print(obj1.age)"
   ]
  },
  {
   "cell_type": "code",
   "execution_count": 20,
   "id": "b7ed0051",
   "metadata": {},
   "outputs": [
    {
     "name": "stdout",
     "output_type": "stream",
     "text": [
      "VIYA\n",
      "4\n"
     ]
    }
   ],
   "source": [
    "class person:\n",
    "    def __init__(self,name,age):\n",
    "        self.name=name\n",
    "        self.age=age\n",
    "obj1 = person(\"VIYA\",4)\n",
    "print(obj1.name)\n",
    "print(obj1.age)"
   ]
  },
  {
   "cell_type": "code",
   "execution_count": 21,
   "id": "5c091d3f",
   "metadata": {},
   "outputs": [
    {
     "name": "stdout",
     "output_type": "stream",
     "text": [
      "my name is:VIYA\n",
      "VIYA\n",
      "4\n"
     ]
    }
   ],
   "source": [
    "class person:\n",
    "    def __init__(self,name,age):\n",
    "        self.name=name\n",
    "        self.age=age\n",
    "    def mymethod(self):\n",
    "        print(\"my name is:\"+self.name)\n",
    "obj2 = person(\"VIYA\",4)\n",
    "obj2.mymethod()\n",
    "print(obj1.name)\n",
    "print(obj1.age)"
   ]
  },
  {
   "cell_type": "code",
   "execution_count": 23,
   "id": "2a0384f6",
   "metadata": {},
   "outputs": [
    {
     "name": "stdout",
     "output_type": "stream",
     "text": [
      "my name is:PRUDHVI\n",
      "PRUDHVI\n",
      "20\n"
     ]
    }
   ],
   "source": [
    "class person:\n",
    "    def __init__(self,name,age):\n",
    "        self.name=name\n",
    "        self.age=age\n",
    "    def mymethod(self):\n",
    "        print(\"my name is:\"+self.name)\n",
    "obj2 = person(\"VIYA\",4)\n",
    "obj2.name= \"PRUDHVI\"\n",
    "obj2.age = 20\n",
    "obj2.mymethod()\n",
    "print(obj2.name)\n",
    "print(obj2.age)"
   ]
  },
  {
   "cell_type": "code",
   "execution_count": 24,
   "id": "0b2743f9",
   "metadata": {},
   "outputs": [
    {
     "name": "stdout",
     "output_type": "stream",
     "text": [
      "my name is:drum sindhu\n",
      "drum sindhu\n",
      "20\n"
     ]
    }
   ],
   "source": [
    "class person:\n",
    "    def __init__(self,name,age):\n",
    "        self.name=name\n",
    "        self.age=age\n",
    "    def mymethod(self):\n",
    "        print(\"my name is:\"+self.name)\n",
    "obj2 = person(\"VIYA\",4)\n",
    "obj2.name= \"drum sindhu\"\n",
    "obj2.age = 20\n",
    "obj2.mymethod()\n",
    "print(obj2.name)\n",
    "print(obj2.age)\n"
   ]
  },
  {
   "cell_type": "code",
   "execution_count": 28,
   "id": "95583cbb",
   "metadata": {},
   "outputs": [
    {
     "name": "stdout",
     "output_type": "stream",
     "text": [
      "my name is:drum sindhu\n",
      "drum sindhu\n",
      "20\n"
     ]
    }
   ],
   "source": [
    "class person:\n",
    "    def __init__(self,name,age):\n",
    "        self.name=name\n",
    "        self.age=age\n",
    "    def mymethod(self):\n",
    "        print(\"my name is:\"+self.name)\n",
    "obj2 = person(\"VIYA\",4)\n",
    "del obj2.age\n",
    "obj2.name= \"drum sindhu\"\n",
    "obj2.age = 20\n",
    "obj2.mymethod()\n",
    "print(obj2.name)\n",
    "print(obj2.age)\n"
   ]
  },
  {
   "cell_type": "code",
   "execution_count": 29,
   "id": "02334de8",
   "metadata": {},
   "outputs": [
    {
     "name": "stdout",
     "output_type": "stream",
     "text": [
      "my name is:PRUDHVI\n",
      "PRUDHVI\n"
     ]
    }
   ],
   "source": [
    "class person:\n",
    "    def __init__(self,name,age):\n",
    "        self.name=name\n",
    "        self.age=age\n",
    "    def mymethod(self):\n",
    "        print(\"my name is:\"+self.name)\n",
    "obj2 = person(\"VIYA\",4)\n",
    "obj2.name= \"PRUDHVI\"\n",
    "obj2.age = 20\n",
    "obj2.mymethod()\n",
    "print(obj2.name)\n"
   ]
  },
  {
   "cell_type": "markdown",
   "id": "cf3091f9",
   "metadata": {},
   "source": [
    "# inheritence:\n",
    "- it is a way of creating new classusing details of existing claasswithout modifying it"
   ]
  },
  {
   "cell_type": "code",
   "execution_count": 36,
   "id": "57695698",
   "metadata": {},
   "outputs": [
    {
     "name": "stdout",
     "output_type": "stream",
     "text": [
      "Parrot is ready\n",
      "Parrot\n",
      "Run Faster\n"
     ]
    }
   ],
   "source": [
    "class Bird: #parent class\n",
    "    def __init__(self):\n",
    "        print(\"bird is ready\")\n",
    "    def whozthis(self):\n",
    "        print(\"bird\")\n",
    "    def fast(self):\n",
    "        print(\"Fly Fast\")\n",
    "class Parrot: #child class\n",
    "    def __init__(self):\n",
    "            print(\"Parrot is ready\")\n",
    "    def whozthis(self):\n",
    "            print(\"Parrot\")\n",
    "    def fast(self):\n",
    "            print(\"Run Faster\")\n",
    "    def behaviour(self):\n",
    "            print(\"good\")\n",
    "obj = Parrot()\n",
    "obj.whozthis()\n",
    "obj.fast()\n",
    "        "
   ]
  },
  {
   "cell_type": "code",
   "execution_count": null,
   "id": "216d6bf8",
   "metadata": {},
   "outputs": [],
   "source": []
  },
  {
   "cell_type": "code",
   "execution_count": null,
   "id": "13170547",
   "metadata": {},
   "outputs": [],
   "source": []
  }
 ],
 "metadata": {
  "kernelspec": {
   "display_name": "Python 3",
   "language": "python",
   "name": "python3"
  },
  "language_info": {
   "codemirror_mode": {
    "name": "ipython",
    "version": 3
   },
   "file_extension": ".py",
   "mimetype": "text/x-python",
   "name": "python",
   "nbconvert_exporter": "python",
   "pygments_lexer": "ipython3",
   "version": "3.8.8"
  }
 },
 "nbformat": 4,
 "nbformat_minor": 5
}
